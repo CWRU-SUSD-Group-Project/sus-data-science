{
 "cells": [
  {
   "cell_type": "code",
   "execution_count": null,
   "metadata": {},
   "outputs": [],
   "source": [
    "import os\n",
    "import json"
   ]
  },
  {
   "cell_type": "code",
   "execution_count": null,
   "metadata": {},
   "outputs": [],
   "source": [
    "# Create the \"data/01_cleaned\" directory if it doesn't exist\n",
    "if not os.path.exists(\"data/01_cleaned\"):\n",
    "    os.makedirs(\"data/01_cleaned\")\n",
    "if not os.path.exists(\"data/01_cleaned/sample\"):\n",
    "    os.makedirs(\"data/01_cleaned/sample\")"
   ]
  },
  {
   "cell_type": "code",
   "execution_count": null,
   "metadata": {},
   "outputs": [],
   "source": [
    "SAMPLE = False"
   ]
  },
  {
   "cell_type": "markdown",
   "metadata": {},
   "source": [
    "## Businesses"
   ]
  },
  {
   "cell_type": "code",
   "execution_count": null,
   "metadata": {},
   "outputs": [],
   "source": [
    "# Creates a new list object 'business' (loading in the JSON file)\n",
    "with open(f\"data/00_original/{'sample/' if SAMPLE else ''}yelp_academic_dataset_business.json\", \"r\") as f:\n",
    "    businesses = [json.loads(line) for line in f]"
   ]
  },
  {
   "cell_type": "code",
   "execution_count": null,
   "metadata": {},
   "outputs": [],
   "source": [
    "keys_to_keep = [\n",
    "    \"longitude\",\n",
    "    \"name\",\n",
    "    \"categories\",\n",
    "    \"review_count\",\n",
    "    \"stars\",\n",
    "    \"latitude\",\n",
    "    \"business_id\",\n",
    "]"
   ]
  },
  {
   "cell_type": "code",
   "execution_count": null,
   "metadata": {},
   "outputs": [],
   "source": [
    "# Creates a new object called business that includes the attributes of the keys_to_keep list\n",
    "for business in businesses:\n",
    "    for key in list(business.keys()):\n",
    "        if key not in keys_to_keep:\n",
    "            business.pop(key)"
   ]
  },
  {
   "cell_type": "code",
   "execution_count": null,
   "metadata": {},
   "outputs": [],
   "source": [
    "with open(f\"data/01_cleaned/{'sample/' if SAMPLE else ''}businesses.json\", \"w\") as f:\n",
    "    f.write('')\n",
    "with open(f\"data/01_cleaned/{'sample/' if SAMPLE else ''}businesses.json\", \"a\") as f:\n",
    "    for business in businesses:\n",
    "        f.write(json.dumps(business) + \"\\n\")"
   ]
  },
  {
   "cell_type": "code",
   "execution_count": null,
   "metadata": {},
   "outputs": [],
   "source": [
    "with open(f\"data/01_cleaned/{'sample/' if SAMPLE else ''}businesses.json\") as f:\n",
    "    businesses_cleaned = [json.loads(line) for line in f]"
   ]
  },
  {
   "cell_type": "code",
   "execution_count": null,
   "metadata": {},
   "outputs": [],
   "source": [
    "# Count most frequently category occurrences in businesses.json\n",
    "category_counts = {}\n",
    "for business in businesses_cleaned:\n",
    "    categories_str = business.get(\"categories\", '')\n",
    "    if categories_str:\n",
    "        categories = categories_str.split(', ')\n",
    "        for category in categories:\n",
    "            category_counts[category] = category_counts.get(category, 0) + 1\n",
    "\n",
    "# Find the most frequent categories\n",
    "category_counts = sorted(category_counts.items(), key=lambda x: x[1], reverse=True)\n",
    "category_counts[:5]\n",
    "\n",
    "# Create a list of the most frequent categories\n",
    "top_categories = [category[0] for category in category_counts[:5]]\n",
    "\n",
    "# print the top 5 most frequent categories\n",
    "top_categories"
   ]
  },
  {
   "cell_type": "code",
   "execution_count": null,
   "metadata": {},
   "outputs": [],
   "source": [
    "# Keep only the businesses that have at least one of the top 5 categories using a dictonary and create a new attribute \"type\" for each business that states which of the top 5 categories it belongs to\n",
    "businesses = {}\n",
    "for business in businesses_cleaned:\n",
    "    categories_str = business.get(\"categories\", '')\n",
    "    if categories_str:\n",
    "        categories = categories_str.split(', ')\n",
    "        for category in categories:\n",
    "            if category in top_categories:\n",
    "                business[\"type\"] = category\n",
    "                businesses[business[\"business_id\"]] = business\n",
    "                break\n",
    "\n",
    "# Create a list of the business ids that have at least one of the top 5 categories\n",
    "business_ids = list(businesses.keys())"
   ]
  },
  {
   "cell_type": "code",
   "execution_count": null,
   "metadata": {},
   "outputs": [],
   "source": [
    "# clear the old businesses.json file and write the new businesses to it\n",
    "with open(f\"data/01_cleaned/{'sample' if SAMPLE else ''}/businesses.json\", \"w\") as f:\n",
    "    f.write(\"\")\n",
    "with open(f\"data/01_cleaned/{'sample' if SAMPLE else ''}/businesses.json\", \"a\") as f:\n",
    "    for business in businesses.values():\n",
    "        f.write(json.dumps(business) + \"\\n\")"
   ]
  },
  {
   "cell_type": "markdown",
   "metadata": {},
   "source": [
    "## Reviews"
   ]
  },
  {
   "cell_type": "code",
   "execution_count": null,
   "metadata": {},
   "outputs": [],
   "source": [
    "with open(f\"data/00_original/{'sample/' if SAMPLE else ''}yelp_academic_dataset_review.json\", \"r\") as f:\n",
    "    reviews = [json.loads(line) for line in f] # List syntax that creates a new list"
   ]
  },
  {
   "cell_type": "code",
   "execution_count": null,
   "metadata": {},
   "outputs": [],
   "source": [
    "keys_to_keep = [\n",
    "    \"business_id\",\n",
    "    \"date\",\n",
    "    \"review_id\",\n",
    "    \"stars\",\n",
    "    \"text\",\n",
    "    \"user_id\",\n",
    "]"
   ]
  },
  {
   "cell_type": "code",
   "execution_count": null,
   "metadata": {},
   "outputs": [],
   "source": [
    "for review in reviews:\n",
    "    for key in list(review.keys()):\n",
    "        if key not in keys_to_keep:\n",
    "            review.pop(key)"
   ]
  },
  {
   "cell_type": "code",
   "execution_count": null,
   "metadata": {},
   "outputs": [],
   "source": [
    "with open(f\"data/01_cleaned/{'sample/' if SAMPLE else ''}reviews.json\", \"w\") as f: # creates a new empty file\n",
    "    f.write('')\n",
    "with open(f\"data/01_cleaned/{'sample/' if SAMPLE else ''}reviews.json\", \"a\") as f: # writes each review as a new line\n",
    "    for review in reviews:\n",
    "        f.write(json.dumps(review) + \"\\n\")"
   ]
  },
  {
   "cell_type": "markdown",
   "metadata": {},
   "source": [
    "## Users"
   ]
  },
  {
   "cell_type": "code",
   "execution_count": null,
   "metadata": {},
   "outputs": [],
   "source": [
    "with open(f\"data/00_original/{'sample/' if SAMPLE else ''}yelp_academic_dataset_user.json\", \"r\") as f:\n",
    "    users = [json.loads(line) for line in f]"
   ]
  },
  {
   "cell_type": "code",
   "execution_count": null,
   "metadata": {},
   "outputs": [],
   "source": [
    "keys_to_keep = [\n",
    "    \"average_stars\",\n",
    "    \"friends\",\n",
    "    \"name\",\n",
    "    \"review_count\",\n",
    "    \"user_id\",\n",
    "]"
   ]
  },
  {
   "cell_type": "code",
   "execution_count": null,
   "metadata": {},
   "outputs": [],
   "source": [
    "for user in users:\n",
    "    for key in list(user.keys()):\n",
    "        if key not in keys_to_keep:\n",
    "            user.pop(key)"
   ]
  },
  {
   "cell_type": "markdown",
   "metadata": {},
   "source": [
    "Now removing users that don't have friends"
   ]
  },
  {
   "cell_type": "code",
   "execution_count": null,
   "metadata": {},
   "outputs": [],
   "source": [
    "# Change the friends property to a list instead of a string\n",
    "for user in users:\n",
    "    user[\"friends\"] = user[\"friends\"].split(\", \")"
   ]
  },
  {
   "cell_type": "code",
   "execution_count": null,
   "metadata": {},
   "outputs": [],
   "source": [
    "# Remove users that don't have friends\n",
    "users = [user for user in users if len(user[\"friends\"]) > 0 and user[\"friends\"] != [\"None\"]]"
   ]
  },
  {
   "cell_type": "code",
   "execution_count": null,
   "metadata": {},
   "outputs": [],
   "source": [
    "with open(f\"data/01_cleaned/{'sample/' if SAMPLE else ''}users.json\", \"w\") as f:\n",
    "    f.write('')\n",
    "with open(f\"data/01_cleaned/{'sample/' if SAMPLE else ''}users.json\", \"a\") as f:\n",
    "    for user in users:\n",
    "        f.write(json.dumps(user) + \"\\n\")"
   ]
  }
 ],
 "metadata": {
  "kernelspec": {
   "display_name": ".venv",
   "language": "python",
   "name": "python3"
  }
 },
 "nbformat": 4,
 "nbformat_minor": 2
}
