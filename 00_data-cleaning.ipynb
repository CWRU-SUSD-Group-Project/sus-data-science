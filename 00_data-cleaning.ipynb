{
 "cells": [
  {
   "cell_type": "markdown",
   "metadata": {},
   "source": [
    "This notebook cleaned the data and writes the cleaned data to the data cleaning folder. The primary task of the cleaning step is to remove the attributes that are not used in the analysis."
   ]
  },
  {
   "cell_type": "markdown",
   "metadata": {},
   "source": [
    "First we import the necessary libraries and create the folders to store the cleaned data. We also define helper functions."
   ]
  },
  {
   "cell_type": "code",
   "execution_count": null,
   "metadata": {},
   "outputs": [],
   "source": [
    "import os\n",
    "import json"
   ]
  },
  {
   "cell_type": "code",
   "execution_count": null,
   "metadata": {},
   "outputs": [],
   "source": [
    "# Create the \"data/01_cleaned\" directory if it doesn't exist\n",
    "if not os.path.exists(\"data/01_cleaned\"):\n",
    "    os.makedirs(\"data/01_cleaned\")\n",
    "# Create the \"data/01_cleaned/sample\" directory if it doesn't exist\n",
    "if not os.path.exists(\"data/01_cleaned/sample\"):\n",
    "    os.makedirs(\"data/01_cleaned/sample\")"
   ]
  },
  {
   "cell_type": "code",
   "execution_count": null,
   "metadata": {},
   "outputs": [],
   "source": [
    "def silent_remove(filename):\n",
    "    try:\n",
    "        os.remove(filename)\n",
    "    except OSError:\n",
    "        pass"
   ]
  },
  {
   "cell_type": "markdown",
   "metadata": {},
   "source": [
    "This notebook is designed so that it can be run on the sample data or the full data just by switching one variable."
   ]
  },
  {
   "cell_type": "code",
   "execution_count": null,
   "metadata": {},
   "outputs": [],
   "source": [
    "# Set this to True to run the script on the sample data\n",
    "# Set this to False to run the script on the full data (takes much longer)\n",
    "SAMPLE = True"
   ]
  },
  {
   "cell_type": "markdown",
   "metadata": {},
   "source": [
    "## Businesses"
   ]
  },
  {
   "cell_type": "markdown",
   "metadata": {},
   "source": [
    "First we clean the business dataset. We load the data and keep the attributes defined in the `keys_to_keep` variable."
   ]
  },
  {
   "cell_type": "code",
   "execution_count": null,
   "metadata": {},
   "outputs": [],
   "source": [
    "# Creates a new list object 'business' (loading in the JSON file)\n",
    "with open(f\"data/00_original/{'sample/' if SAMPLE else ''}yelp_academic_dataset_business.json\", \"r\") as f:\n",
    "    businesses = [json.loads(line) for line in f]"
   ]
  },
  {
   "cell_type": "code",
   "execution_count": null,
   "metadata": {},
   "outputs": [],
   "source": [
    "# Cleaned unused attributes from the business data\n",
    "\n",
    "attributes_to_keep = [\n",
    "    \"longitude\",\n",
    "    \"name\",\n",
    "    \"categories\",\n",
    "    \"review_count\",\n",
    "    \"stars\",\n",
    "    \"latitude\",\n",
    "    \"business_id\",\n",
    "]\n",
    "\n",
    "for business in businesses:\n",
    "    for key in list(business.keys()):\n",
    "        if key not in attributes_to_keep:\n",
    "            business.pop(key)"
   ]
  },
  {
   "cell_type": "code",
   "execution_count": null,
   "metadata": {},
   "outputs": [],
   "source": [
    "silent_remove(f\"data/01_cleaned/{'sample/' if SAMPLE else ''}businesses.json\")\n",
    "with open(f\"data/01_cleaned/{'sample/' if SAMPLE else ''}businesses.json\", \"a\") as f:\n",
    "    for business in businesses:\n",
    "        f.write(json.dumps(business) + \"\\n\")"
   ]
  },
  {
   "cell_type": "code",
   "execution_count": null,
   "metadata": {},
   "outputs": [],
   "source": [
    "# Optional cell to release memory (only within Python because Python doesn't like to release memory back to the system)\n",
    "businesses = None"
   ]
  },
  {
   "cell_type": "markdown",
   "metadata": {},
   "source": [
    "## Reviews and Users"
   ]
  },
  {
   "cell_type": "markdown",
   "metadata": {},
   "source": [
    "Next we clean the data for reviews and users in much the same way as the business data."
   ]
  },
  {
   "cell_type": "code",
   "execution_count": null,
   "metadata": {},
   "outputs": [],
   "source": [
    "with open(f\"data/00_original/{'sample/' if SAMPLE else ''}yelp_academic_dataset_review.json\", \"r\") as f:\n",
    "    reviews = [json.loads(line) for line in f]"
   ]
  },
  {
   "cell_type": "code",
   "execution_count": null,
   "metadata": {},
   "outputs": [],
   "source": [
    "attributes_to_keep = [\n",
    "    \"business_id\",\n",
    "    \"date\",\n",
    "    \"review_id\",\n",
    "    \"stars\",\n",
    "    \"text\",\n",
    "    \"user_id\",\n",
    "]\n",
    "\n",
    "for review in reviews:\n",
    "    for key in list(review.keys()):\n",
    "        if key not in attributes_to_keep:\n",
    "            review.pop(key)"
   ]
  },
  {
   "cell_type": "code",
   "execution_count": null,
   "metadata": {},
   "outputs": [],
   "source": [
    "silent_remove(f\"data/01_cleaned/{'sample/' if SAMPLE else ''}reviews.json\")\n",
    "with open(f\"data/01_cleaned/{'sample/' if SAMPLE else ''}reviews.json\", \"a\") as f:\n",
    "    for review in reviews:\n",
    "        f.write(json.dumps(review) + \"\\n\")"
   ]
  },
  {
   "cell_type": "markdown",
   "metadata": {},
   "source": [
    "Now we remove the review data and write a new file without the reviews. This is to save time and space in the preprocessing step."
   ]
  },
  {
   "cell_type": "code",
   "execution_count": null,
   "metadata": {},
   "outputs": [],
   "source": [
    "for review in reviews:\n",
    "    if \"text\" in review.keys():\n",
    "        review.pop(\"text\")\n",
    "    review[\"rating_id\"] = review.pop(\"review_id\")"
   ]
  },
  {
   "cell_type": "code",
   "execution_count": null,
   "metadata": {},
   "outputs": [],
   "source": [
    "silent_remove(f\"data/01_cleaned/{'sample/' if SAMPLE else ''}ratings.json\")\n",
    "with open(f\"data/01_cleaned/{'sample/' if SAMPLE else ''}ratings.json\", \"a\") as f:\n",
    "    for review in reviews:\n",
    "        f.write(json.dumps(review) + \"\\n\")"
   ]
  },
  {
   "cell_type": "code",
   "execution_count": null,
   "metadata": {},
   "outputs": [],
   "source": [
    "reviews = None"
   ]
  },
  {
   "cell_type": "markdown",
   "metadata": {},
   "source": [
    "Now we clean user data"
   ]
  },
  {
   "cell_type": "code",
   "execution_count": null,
   "metadata": {},
   "outputs": [],
   "source": [
    "with open(f\"data/00_original/{'sample/' if SAMPLE else ''}yelp_academic_dataset_user.json\", \"r\") as f:\n",
    "    users = [json.loads(line) for line in f]"
   ]
  },
  {
   "cell_type": "code",
   "execution_count": null,
   "metadata": {},
   "outputs": [],
   "source": [
    "attributes_to_keep = [\n",
    "    \"average_stars\",\n",
    "    \"friends\",\n",
    "    \"name\",\n",
    "    \"review_count\",\n",
    "    \"user_id\",\n",
    "]\n",
    "\n",
    "for user in users:\n",
    "    for key in list(user.keys()):\n",
    "        if key not in attributes_to_keep:\n",
    "            user.pop(key)"
   ]
  },
  {
   "cell_type": "markdown",
   "metadata": {},
   "source": [
    "The following step changes the `friends` attribute to be a list instead of a string"
   ]
  },
  {
   "cell_type": "code",
   "execution_count": null,
   "metadata": {},
   "outputs": [],
   "source": [
    "for user in users:\n",
    "    user[\"friends\"] = user[\"friends\"].split(\", \")\n",
    "    if user[\"friends\"] == [\"None\"]:\n",
    "        user[\"friends\"] = []"
   ]
  },
  {
   "cell_type": "code",
   "execution_count": null,
   "metadata": {},
   "outputs": [],
   "source": [
    "silent_remove(f\"data/01_cleaned/{'sample/' if SAMPLE else ''}users.json\")\n",
    "with open(f\"data/01_cleaned/{'sample/' if SAMPLE else ''}users.json\", \"a\") as f:\n",
    "    for user in users:\n",
    "        f.write(json.dumps(user) + \"\\n\")"
   ]
  }
 ],
 "metadata": {
  "kernelspec": {
   "display_name": ".venv",
   "language": "python",
   "name": "python3"
  }
 },
 "nbformat": 4,
 "nbformat_minor": 2
}
