{
 "cells": [
  {
   "cell_type": "code",
   "execution_count": null,
   "metadata": {},
   "outputs": [],
   "source": [
    "import os\n",
    "import json\n",
    "from pprint import pprint"
   ]
  },
  {
   "cell_type": "code",
   "execution_count": null,
   "metadata": {},
   "outputs": [],
   "source": [
    "with open(\"data/cleaned/sample/businesses.json\") as f:\n",
    "    businesses_original = [json.loads(line) for line in f]\n",
    "with open(\"data/cleaned/sample/reviews.json\") as f:\n",
    "    reviews_original = [json.loads(line) for line in f]\n",
    "with open(\"data/cleaned/sample/users.json\") as f:\n",
    "    users_original = [json.loads(line) for line in f]"
   ]
  },
  {
   "cell_type": "code",
   "execution_count": null,
   "metadata": {},
   "outputs": [],
   "source": [
    "businesses = {b[\"business_id\"]: b for b in businesses_original}\n",
    "reviews = {r[\"review_id\"]: r for r in reviews_original}\n",
    "users = {u[\"user_id\"]: u for u in users_original}"
   ]
  },
  {
   "cell_type": "code",
   "execution_count": null,
   "metadata": {},
   "outputs": [],
   "source": [
    "user_reviews = [review for review in reviews if review[\"user_id\"] == user_id]"
   ]
  },
  {
   "cell_type": "code",
   "execution_count": null,
   "metadata": {},
   "outputs": [],
   "source": [
    "user_reviews"
   ]
  }
 ],
 "metadata": {
  "kernelspec": {
   "display_name": ".venv",
   "language": "python",
   "name": "python3"
  }
 },
 "nbformat": 4,
 "nbformat_minor": 2
}
