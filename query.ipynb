{
 "cells": [
  {
   "cell_type": "markdown",
   "metadata": {},
   "source": [
    "# Query Notebook"
   ]
  },
  {
   "cell_type": "code",
   "execution_count": null,
   "metadata": {},
   "outputs": [],
   "source": [
    "import json"
   ]
  },
  {
   "cell_type": "code",
   "execution_count": null,
   "metadata": {},
   "outputs": [],
   "source": [
    "# This is how our queries will be formatted. They will later be created with\n",
    "# user input\n",
    "query = {\n",
    "    \"user\": \"4ZaqBJqt7laPPs8xfWvr6A\",\n",
    "    \"types\": [\"restaurants\", \"food\"],\n",
    "    \"keywords\": [\"French\", \"cozy\"],\n",
    "    \"literals\": [(\"distance\", \"less than\", 2), (\"rating\", \"greater than\", 3)],\n",
    "    \"k\": 5\n",
    "}"
   ]
  },
  {
   "cell_type": "markdown",
   "metadata": {},
   "source": [
    "Program flow\n",
    "\n",
    "1. Query the database for a list of locations that match the type of location\n",
    "2. Narrow down the list to make sure they match the literals\n",
    "3. Match keywords to the location\n",
    "4. Apply the friend rating filter\n",
    "5. Return K results"
   ]
  },
  {
   "cell_type": "markdown",
   "metadata": {},
   "source": [
    "## Grab the Data"
   ]
  },
  {
   "cell_type": "code",
   "execution_count": null,
   "metadata": {},
   "outputs": [],
   "source": [
    "with open(\"data/sample/yelp_academic_dataset_business.json\", \"r\") as f:\n",
    "    businesses = [json.loads(line) for line in f.readlines()]"
   ]
  },
  {
   "cell_type": "code",
   "execution_count": null,
   "metadata": {},
   "outputs": [],
   "source": [
    "keys_to_keep = [\"business_id\", \"name\", \"address\", \"city\", \"state\", \"latitude\", \"longitude\", \"stars\", \"review_count\", \"categories\"]\n",
    "for b in businesses:\n",
    "    keys_to_delete = []\n",
    "    for key in b.keys():\n",
    "        if key not in keys_to_keep:\n",
    "            keys_to_delete.append(key)\n",
    "    for key in keys_to_delete:\n",
    "        del b[key]\n",
    "for b in businesses:\n",
    "    if \"categories\" in b.keys():\n",
    "        b[\"categories\"] = b[\"categories\"].split(\", \")\n",
    "        b[\"categories\"] = [category.lower() for category in b[\"categories\"]]"
   ]
  },
  {
   "cell_type": "code",
   "execution_count": null,
   "metadata": {},
   "outputs": [],
   "source": [
    "businesses[1][\"categories\"]"
   ]
  },
  {
   "cell_type": "code",
   "execution_count": null,
   "metadata": {},
   "outputs": [],
   "source": [
    "types_to_keep = [type_name.lower() for type_name in query[\"types\"]]\n",
    "narrowed_down_list = []\n",
    "for b in businesses:\n",
    "    if len(set(types_to_keep).intersection(b[\"categories\"])) > 0: # one of the business categories is the type we want\n",
    "        narrowed_down_list.append(b)\n",
    "print(f\"Number of businesses narrowed down to {len(narrowed_down_list)} from {len(businesses)}\")"
   ]
  },
  {
   "cell_type": "markdown",
   "metadata": {},
   "source": [
    "## Query for matching by type"
   ]
  }
 ],
 "metadata": {
  "kernelspec": {
   "display_name": ".venv",
   "language": "python",
   "name": "python3"
  }
 },
 "nbformat": 4,
 "nbformat_minor": 2
}
