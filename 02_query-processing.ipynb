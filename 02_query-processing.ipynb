{
 "cells": [
  {
   "cell_type": "markdown",
   "metadata": {},
   "source": [
    "# Query Notebook"
   ]
  },
  {
   "cell_type": "code",
   "execution_count": 31,
   "metadata": {},
   "outputs": [],
   "source": [
    "import json\n",
    "from math import radians, sin, cos, sqrt, atan2"
   ]
  },
  {
   "cell_type": "code",
   "execution_count": 27,
   "metadata": {},
   "outputs": [],
   "source": [
    "SAMPLE = True"
   ]
  },
  {
   "cell_type": "code",
   "execution_count": null,
   "metadata": {},
   "outputs": [],
   "source": []
  },
  {
   "cell_type": "code",
   "execution_count": 28,
   "metadata": {},
   "outputs": [],
   "source": [
    "# This is how our queries will be formatted. They will later be created with\n",
    "# user input\n",
    "query = {\n",
    "    \"user\": \"4ZaqBJqt7laPPs8xfWvr6A\",\n",
    "    \"types\": [\"restaurants\"], # TODO I think this should be just one value out a list of options to make our work easier -Joshua\n",
    "    \"keywords\": [\"French\", \"cozy\"],\n",
    "    #\"literals\": [(\"distance\", \"less than\", 2, \"latitude\", \"longitude\"), (\"rating\", \"greater than\", 3)]\n",
    "    \"literals\": [(\"latitude\", \"longitude\", \"distance number\"), (\"rating number\")],\n",
    "    \"k\": 5\n",
    "}"
   ]
  },
  {
   "cell_type": "markdown",
   "metadata": {},
   "source": [
    "Program flow\n",
    "\n",
    "1. Query the database for a list of locations that match the type of location\n",
    "2. Narrow down the list to make sure they match the literals\n",
    "3. Match keywords to the location\n",
    "4. Apply the friend rating filter\n",
    "5. Return K results"
   ]
  },
  {
   "cell_type": "markdown",
   "metadata": {},
   "source": [
    "# Literal Processing"
   ]
  },
  {
   "cell_type": "markdown",
   "metadata": {},
   "source": [
    "When considering the literal processing, this creates an ew set that narrows down the amount of businesses that are going to be chosen by its 'literal' or global attribute (distance by radius & global rating number)"
   ]
  },
  {
   "cell_type": "code",
   "execution_count": 29,
   "metadata": {},
   "outputs": [],
   "source": [
    "# Loading in the cleaned JSON business file\n",
    "\n",
    "with open(f\"data/01_cleaned/sample/businesses.json\") as f:\n",
    "    review = [json.loads(line) for line in f]\n"
   ]
  },
  {
   "cell_type": "code",
   "execution_count": 32,
   "metadata": {},
   "outputs": [],
   "source": [
    "location_literal = {}\n",
    "latitude = query[\"literals\"]# TODO how to piece together the actual query as a value to enter\n",
    "\n",
    "# calculating the difference between two different points of lat & long\n",
    "# units = miles\n",
    "def distance(lat1, long1, lat2, long2):\n",
    "    earthRadius = 3958.76\n",
    "\n",
    "    # converting the latitude and longitude from degrees to radians\n",
    "    lat1, long1, lat2, long2 = map(radians, lat1, long1, lat2, long2)\n",
    "\n",
    "    # finding the distance between respective latitudes and longitudes\n",
    "    latDist = lat2 - lat1\n",
    "    longDist = long2 - long1\n",
    "\n",
    "    # use of the haversine formula\n",
    "    a = sin(latDist / 2)**2 + cos(lat1) * cos(lat2) * sin(longDist / 2)**2\n",
    "    c = 2 * atan2(sqrt(a), sqrt(1 - a))\n",
    "\n",
    "    # Calculate the distance\n",
    "    distance = earthRadius * c\n",
    "\n",
    "    return distance\n",
    "\n",
    "# returns all of the businesses that are less than or equal to the radius of the given latitude and longitude\n",
    "# essentially applies distance function to business\n",
    "def returnLocations(business, businessLat, businessLong, radius):\n",
    "    for business in businesses:\n",
    "        if business[\"review_count\"] > 0:\n",
    "            distance = distance(query[\"literals\"], query[\"literals\"], business[\"latitude\"], business[\"longitude\"])\n",
    "            if distance <= radius:\n",
    "                location_literal.append(business)\n",
    "\n",
    "    return location_literal"
   ]
  },
  {
   "cell_type": "code",
   "execution_count": null,
   "metadata": {},
   "outputs": [],
   "source": [
    "rating_literal = {}\n",
    "\n",
    "def returnRated(lowestRating):\n",
    "    for business in businesses:\n",
    "        if business[\"review_count\"] > 0:\n",
    "            if business[\"stars\"] >= lowestRating:\n",
    "                rating_literal.append(business)\n",
    "\n"
   ]
  },
  {
   "cell_type": "code",
   "execution_count": null,
   "metadata": {},
   "outputs": [],
   "source": [
    "matched_literals = {}\n",
    "\n"
   ]
  }
 ],
 "metadata": {
  "kernelspec": {
   "display_name": ".venv",
   "language": "python",
   "name": "python3"
  },
  "language_info": {
   "codemirror_mode": {
    "name": "ipython",
    "version": 3
   },
   "file_extension": ".py",
   "mimetype": "text/x-python",
   "name": "python",
   "nbconvert_exporter": "python",
   "pygments_lexer": "ipython3",
   "version": "3.10.5"
  }
 },
 "nbformat": 4,
 "nbformat_minor": 2
}
