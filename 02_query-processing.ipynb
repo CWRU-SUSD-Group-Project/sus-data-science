{
 "cells": [
  {
   "cell_type": "markdown",
   "metadata": {},
   "source": [
    "# Query Notebook"
   ]
  },
  {
   "cell_type": "code",
   "execution_count": 56,
   "metadata": {},
   "outputs": [],
   "source": [
    "import json\n",
    "from math import radians, sin, cos, sqrt, atan2"
   ]
  },
  {
   "cell_type": "code",
   "execution_count": 57,
   "metadata": {},
   "outputs": [],
   "source": [
    "SAMPLE = True"
   ]
  },
  {
   "cell_type": "code",
   "execution_count": 60,
   "metadata": {},
   "outputs": [],
   "source": [
    "# This is how our queries will be formatted. They will later be created with\n",
    "# user input\n",
    "query = {\n",
    "    \"user\": \"4ZaqBJqt7laPPs8xfWvr6A\",\n",
    "    \"types\": [\"restaurants\"], # TODO I think this should be just one value out a list of options to make our work easier -Joshua\n",
    "    \"keywords\": [\"abby\", \"doctors\", \"target\", \"shopping\", \"fashion\", \"nails\", \"bars\", \"food\"],\n",
    "    #\"literals\": [(\"distance\", \"less than\", 2, \"latitude\", \"longitude\"), (\"rating\", \"greater than\", 3)]\n",
    "    \"literals\": [(\"latitude\", \"longitude\", \"distance number\"), (\"rating number\")],\n",
    "    \"k\": 5\n",
    "}"
   ]
  },
  {
   "cell_type": "markdown",
   "metadata": {},
   "source": [
    "Program flow\n",
    "\n",
    "1. Query the database for a list of locations that match the type of location\n",
    "2. Narrow down the list to make sure they match the literals\n",
    "3. Match keywords to the location\n",
    "4. Apply the friend rating filter\n",
    "5. Return K results"
   ]
  },
  {
   "cell_type": "markdown",
   "metadata": {},
   "source": [
    "# Literal Processing"
   ]
  },
  {
   "cell_type": "markdown",
   "metadata": {},
   "source": [
    "When considering the literal processing, this creates an new set that narrows down the amount of businesses that are going to be chosen by its 'literal' or global attribute (distance by radius & global rating number)"
   ]
  },
  {
   "cell_type": "code",
   "execution_count": 16,
   "metadata": {},
   "outputs": [
    {
     "ename": "FileNotFoundError",
     "evalue": "[Errno 2] No such file or directory: 'data/01_cleaned/sample/businesses.json'",
     "output_type": "error",
     "traceback": [
      "\u001b[0;31m---------------------------------------------------------------------------\u001b[0m",
      "\u001b[0;31mFileNotFoundError\u001b[0m                         Traceback (most recent call last)",
      "Cell \u001b[0;32mIn[16], line 3\u001b[0m\n\u001b[1;32m      1\u001b[0m \u001b[38;5;66;03m# Loading in the cleaned JSON business file\u001b[39;00m\n\u001b[0;32m----> 3\u001b[0m \u001b[38;5;28;01mwith\u001b[39;00m \u001b[38;5;28;43mopen\u001b[39;49m\u001b[43m(\u001b[49m\u001b[38;5;124;43mf\u001b[39;49m\u001b[38;5;124;43m\"\u001b[39;49m\u001b[38;5;124;43mdata/01_cleaned/sample/businesses.json\u001b[39;49m\u001b[38;5;124;43m\"\u001b[39;49m\u001b[43m)\u001b[49m \u001b[38;5;28;01mas\u001b[39;00m f:\n\u001b[1;32m      4\u001b[0m     businesses \u001b[38;5;241m=\u001b[39m [json\u001b[38;5;241m.\u001b[39mloads(line) \u001b[38;5;28;01mfor\u001b[39;00m line \u001b[38;5;129;01min\u001b[39;00m f]\n",
      "File \u001b[0;32m~/Documents/School/CSDS_234_Structured_and_Unstructured_Data/sus-data-science/.venv/lib/python3.11/site-packages/IPython/core/interactiveshell.py:308\u001b[0m, in \u001b[0;36m_modified_open\u001b[0;34m(file, *args, **kwargs)\u001b[0m\n\u001b[1;32m    301\u001b[0m \u001b[38;5;28;01mif\u001b[39;00m file \u001b[38;5;129;01min\u001b[39;00m {\u001b[38;5;241m0\u001b[39m, \u001b[38;5;241m1\u001b[39m, \u001b[38;5;241m2\u001b[39m}:\n\u001b[1;32m    302\u001b[0m     \u001b[38;5;28;01mraise\u001b[39;00m \u001b[38;5;167;01mValueError\u001b[39;00m(\n\u001b[1;32m    303\u001b[0m         \u001b[38;5;124mf\u001b[39m\u001b[38;5;124m\"\u001b[39m\u001b[38;5;124mIPython won\u001b[39m\u001b[38;5;124m'\u001b[39m\u001b[38;5;124mt let you open fd=\u001b[39m\u001b[38;5;132;01m{\u001b[39;00mfile\u001b[38;5;132;01m}\u001b[39;00m\u001b[38;5;124m by default \u001b[39m\u001b[38;5;124m\"\u001b[39m\n\u001b[1;32m    304\u001b[0m         \u001b[38;5;124m\"\u001b[39m\u001b[38;5;124mas it is likely to crash IPython. If you know what you are doing, \u001b[39m\u001b[38;5;124m\"\u001b[39m\n\u001b[1;32m    305\u001b[0m         \u001b[38;5;124m\"\u001b[39m\u001b[38;5;124myou can use builtins\u001b[39m\u001b[38;5;124m'\u001b[39m\u001b[38;5;124m open.\u001b[39m\u001b[38;5;124m\"\u001b[39m\n\u001b[1;32m    306\u001b[0m     )\n\u001b[0;32m--> 308\u001b[0m \u001b[38;5;28;01mreturn\u001b[39;00m \u001b[43mio_open\u001b[49m\u001b[43m(\u001b[49m\u001b[43mfile\u001b[49m\u001b[43m,\u001b[49m\u001b[43m \u001b[49m\u001b[38;5;241;43m*\u001b[39;49m\u001b[43margs\u001b[49m\u001b[43m,\u001b[49m\u001b[43m \u001b[49m\u001b[38;5;241;43m*\u001b[39;49m\u001b[38;5;241;43m*\u001b[39;49m\u001b[43mkwargs\u001b[49m\u001b[43m)\u001b[49m\n",
      "\u001b[0;31mFileNotFoundError\u001b[0m: [Errno 2] No such file or directory: 'data/01_cleaned/sample/businesses.json'"
     ]
    }
   ],
   "source": [
    "# Loading in the cleaned JSON business file\n",
    "\n",
    "with open(f\"data/01_cleaned/sample/businesses.json\") as f:\n",
    "    businesses = [json.loads(line) for line in f]\n"
   ]
  },
  {
   "cell_type": "markdown",
   "metadata": {},
   "source": [
    "# DO NOT RUN FILE BELOW"
   ]
  },
  {
   "cell_type": "code",
   "execution_count": null,
   "metadata": {},
   "outputs": [],
   "source": [
    "\n",
    "location_literal = {}\n",
    "latitude = query[\"literals\"]# TODO how to piece together the actual query as a value to enter\n",
    "\n",
    "# calculating the difference between two different points of lat & long\n",
    "# units = miles\n",
    "def dist(lat1, long1, lat2, long2):\n",
    "    earthRadius = 3958.76\n",
    "\n",
    "    # converting the latitude and longitude from degrees to radians\n",
    "    lat1, long1, lat2, long2 = map(radians, lat1, long1, lat2, long2)\n",
    "\n",
    "    # finding the distance between respective latitudes and longitudes\n",
    "    latDist = lat2 - lat1\n",
    "    longDist = long2 - long1\n",
    "\n",
    "    # use of the haversine formula\n",
    "    a = sin(latDist / 2)**2 + cos(lat1) * cos(lat2) * sin(longDist / 2)**2\n",
    "    c = 2 * atan2(sqrt(a), sqrt(1 - a))\n",
    "\n",
    "    # Calculate the distance\n",
    "    distance = earthRadius * c\n",
    "\n",
    "    return distance\n",
    "\n",
    "# returns all of the businesses that are less than or equal to the radius of the given latitude and longitude\n",
    "# essentially applies distance function to business\n",
    "def returnLocations(business, businessLat, businessLong, radius):\n",
    "    for business in businesses:\n",
    "        if business[\"review_count\"] > 0:\n",
    "            distance = distance(query[\"literals\"], query[\"literals\"], business[\"latitude\"], business[\"longitude\"])\n",
    "            if distance <= radius:\n",
    "                location_literal.append(business)\n",
    "\n",
    "    return location_literal"
   ]
  },
  {
   "cell_type": "markdown",
   "metadata": {},
   "source": [
    "# YOU CAN RUN THIS ONE LOL"
   ]
  },
  {
   "cell_type": "code",
   "execution_count": null,
   "metadata": {},
   "outputs": [],
   "source": [
    "location_literal = {}\n",
    "rating_literal = {}\n",
    "\n",
    "# The query distance is in miles\n",
    "def distance(userLat, userLong, queryDist):\n",
    "   earthRadius = 6371\n",
    "\n",
    "   if queryDist == 0:\n",
    "      print(\"Your distance cannot be zero\")\n",
    "   else:\n",
    "      for business in businesses:\n",
    "         businessLat = business[\"latitude\"]\n",
    "         businessLong = business[\"longitude\"]\n",
    "         userLat, userLong, businessLat, businessLong = map(radians, userLat, userLong, business[\"latitude\"], business[\"longitude\"])\n",
    "         latDist = business[\"latitude\"] - userLat\n",
    "         longDist = business[\"longitude\"] - userLong\n",
    "         maxDist = earthRadius * c\n",
    "         if maxDist <= queryDist & maxDist != 0:\n",
    "            a = sin(latDist / 2)**2 + cos(userLat) * cos(business[\"latitude\"]) * sin(longDist / 2)**2\n",
    "            c = 2 * atan2(sqrt(a), sqrt(1 - a))\n",
    "            location_literal.append(business)\n",
    "         else:\n",
    "            print(\"There are no \" + query[\"types\"] + \" in your selected radius. Please increase your radius or just leave Ohio\")\n",
    "\n",
    "def returnRated(lowestRating):\n",
    "   # TODO iterate through the new location_literal dictionary\n",
    "   for business in location_literal: # this is just a placeholder, please fix how to iterate through created dictionary\n",
    "      if business[\"review_count\"] > 0:\n",
    "         if business[\"stars\"] >= lowestRating:\n",
    "            rating_literal.append(business)\n",
    "   return rating_literal"
   ]
  },
  {
   "cell_type": "code",
   "execution_count": null,
   "metadata": {},
   "outputs": [],
   "source": [
    "matched_literals = {}\n",
    "\n"
   ]
  },
  {
   "cell_type": "markdown",
   "metadata": {},
   "source": [
    "# Keyword Extraction"
   ]
  },
  {
   "cell_type": "code",
   "execution_count": 61,
   "metadata": {},
   "outputs": [],
   "source": [
    "import pandas as pd"
   ]
  },
  {
   "cell_type": "code",
   "execution_count": 62,
   "metadata": {},
   "outputs": [
    {
     "data": {
      "text/html": [
       "<div>\n",
       "<style scoped>\n",
       "    .dataframe tbody tr th:only-of-type {\n",
       "        vertical-align: middle;\n",
       "    }\n",
       "\n",
       "    .dataframe tbody tr th {\n",
       "        vertical-align: top;\n",
       "    }\n",
       "\n",
       "    .dataframe thead th {\n",
       "        text-align: right;\n",
       "    }\n",
       "</style>\n",
       "<table border=\"1\" class=\"dataframe\">\n",
       "  <thead>\n",
       "    <tr style=\"text-align: right;\">\n",
       "      <th></th>\n",
       "      <th>business_id</th>\n",
       "      <th>keyword</th>\n",
       "    </tr>\n",
       "  </thead>\n",
       "  <tbody>\n",
       "    <tr>\n",
       "      <th>0</th>\n",
       "      <td>Pns2l4eNsfO8kk83dixA6A</td>\n",
       "      <td>abby</td>\n",
       "    </tr>\n",
       "    <tr>\n",
       "      <th>1</th>\n",
       "      <td>Pns2l4eNsfO8kk83dixA6A</td>\n",
       "      <td>rappoport</td>\n",
       "    </tr>\n",
       "    <tr>\n",
       "      <th>2</th>\n",
       "      <td>Pns2l4eNsfO8kk83dixA6A</td>\n",
       "      <td>lac</td>\n",
       "    </tr>\n",
       "    <tr>\n",
       "      <th>3</th>\n",
       "      <td>Pns2l4eNsfO8kk83dixA6A</td>\n",
       "      <td>cmq</td>\n",
       "    </tr>\n",
       "    <tr>\n",
       "      <th>4</th>\n",
       "      <td>Pns2l4eNsfO8kk83dixA6A</td>\n",
       "      <td>doctors</td>\n",
       "    </tr>\n",
       "    <tr>\n",
       "      <th>...</th>\n",
       "      <td>...</td>\n",
       "      <td>...</td>\n",
       "    </tr>\n",
       "    <tr>\n",
       "      <th>1209363</th>\n",
       "      <td>zznZqH9CiAznbkV6fXyHWA</td>\n",
       "      <td>sandwich</td>\n",
       "    </tr>\n",
       "    <tr>\n",
       "      <th>1209364</th>\n",
       "      <td>zznZqH9CiAznbkV6fXyHWA</td>\n",
       "      <td>try</td>\n",
       "    </tr>\n",
       "    <tr>\n",
       "      <th>1209365</th>\n",
       "      <td>zznZqH9CiAznbkV6fXyHWA</td>\n",
       "      <td>definitely</td>\n",
       "    </tr>\n",
       "    <tr>\n",
       "      <th>1209366</th>\n",
       "      <td>zznZqH9CiAznbkV6fXyHWA</td>\n",
       "      <td>popup</td>\n",
       "    </tr>\n",
       "    <tr>\n",
       "      <th>1209367</th>\n",
       "      <td>zznZqH9CiAznbkV6fXyHWA</td>\n",
       "      <td>pupusa</td>\n",
       "    </tr>\n",
       "  </tbody>\n",
       "</table>\n",
       "<p>1209368 rows × 2 columns</p>\n",
       "</div>"
      ],
      "text/plain": [
       "                    business_id     keyword\n",
       "0        Pns2l4eNsfO8kk83dixA6A        abby\n",
       "1        Pns2l4eNsfO8kk83dixA6A   rappoport\n",
       "2        Pns2l4eNsfO8kk83dixA6A         lac\n",
       "3        Pns2l4eNsfO8kk83dixA6A         cmq\n",
       "4        Pns2l4eNsfO8kk83dixA6A     doctors\n",
       "...                         ...         ...\n",
       "1209363  zznZqH9CiAznbkV6fXyHWA    sandwich\n",
       "1209364  zznZqH9CiAznbkV6fXyHWA         try\n",
       "1209365  zznZqH9CiAznbkV6fXyHWA  definitely\n",
       "1209366  zznZqH9CiAznbkV6fXyHWA       popup\n",
       "1209367  zznZqH9CiAznbkV6fXyHWA      pupusa\n",
       "\n",
       "[1209368 rows x 2 columns]"
      ]
     },
     "execution_count": 62,
     "metadata": {},
     "output_type": "execute_result"
    }
   ],
   "source": [
    "# read businesses_keywords.csv file\n",
    "with open(\"data/02_postprocessing/businesses_keywords.csv\") as f:\n",
    "    business_keywords_df = pd.read_csv(f, header=0)\n",
    "\n",
    "# read businesses.csv file\n",
    "with open(\"data/02_postprocessing/businesses.csv\") as f:\n",
    "    business_df = pd.read_csv(f, header=0)\n",
    "\n",
    "business_keywords_df\n"
   ]
  },
  {
   "cell_type": "code",
   "execution_count": 66,
   "metadata": {},
   "outputs": [],
   "source": [
    "# Filter businesses based on keywords and count the number of keywords matched\n",
    "def filter_businesses(keywords):\n",
    "    # Filter businesses based on keywords\n",
    "    businesses_filtered = business_keywords_df[business_keywords_df[\"keyword\"].isin(keywords)]\n",
    "\n",
    "    # Count the number of keywords matched\n",
    "    businesses_filtered_count = businesses_filtered.groupby(\"business_id\").count().reset_index()\n",
    "\n",
    "    # Rename the column\n",
    "    businesses_filtered_count = businesses_filtered_count.rename(columns={\"keyword\": \"keywords_matched\"})\n",
    "\n",
    "    # Normalize the count of keywords matched\n",
    "    min_count = businesses_filtered_count[\"keywords_matched\"].min()\n",
    "    max_count = businesses_filtered_count[\"keywords_matched\"].max()\n",
    "    businesses_filtered_count[\"norm_keywords_matched\"] = (((businesses_filtered_count[\"keywords_matched\"] - min_count) / (max_count - min_count))) \n",
    "\n",
    "    # Sort the dataframe based on the normalized count of keywords matched\n",
    "    businesses_filtered_count = businesses_filtered_count.sort_values(by=\"norm_keywords_matched\", ascending=False)\n",
    "\n",
    "    return businesses_filtered_count\n",
    "\n",
    "# Example usage\n",
    "result = filter_businesses(query[\"keywords\"])\n"
   ]
  },
  {
   "cell_type": "code",
   "execution_count": null,
   "metadata": {},
   "outputs": [],
   "source": []
  },
  {
   "cell_type": "code",
   "execution_count": null,
   "metadata": {},
   "outputs": [],
   "source": []
  }
 ],
 "metadata": {
  "kernelspec": {
   "display_name": ".venv",
   "language": "python",
   "name": "python3"
  },
  "language_info": {
   "codemirror_mode": {
    "name": "ipython",
    "version": 3
   },
   "file_extension": ".py",
   "mimetype": "text/x-python",
   "name": "python",
   "nbconvert_exporter": "python",
   "pygments_lexer": "ipython3",
   "version": "3.11.3"
  }
 },
 "nbformat": 4,
 "nbformat_minor": 2
}
