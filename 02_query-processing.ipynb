{
 "cells": [
  {
   "cell_type": "markdown",
   "metadata": {},
   "source": [
    "# Query Notebook"
   ]
  },
  {
   "cell_type": "code",
   "execution_count": 79,
   "metadata": {},
   "outputs": [],
   "source": [
    "import json\n",
    "from math import radians, sin, cos, sqrt, atan2\n",
    "import pandas as pd"
   ]
  },
  {
   "cell_type": "code",
   "execution_count": 80,
   "metadata": {},
   "outputs": [],
   "source": [
    "SAMPLE = True"
   ]
  },
  {
   "cell_type": "code",
   "execution_count": 84,
   "metadata": {},
   "outputs": [],
   "source": [
    "# This is how our queries will be formatted. They will later be created with\n",
    "# user input\n",
    "query = {\n",
    "    \"user\": \"4ZaqBJqt7laPPs8xfWvr6A\",\n",
    "    \"location\": (41.5074, 81.6096),\n",
    "    \"types\": [\"restaurants\"], # TODO I think this should be just one value out a list of options to make our work easier -Joshua\n",
<<<<<<< Updated upstream
    "    \"keywords\": [\"abby\", \"doctors\", \"target\", \"shopping\", \"fashion\", \"nails\", \"bars\", \"food\"],\n",
    "    #\"literals\": [(\"distance\", \"less than\", 2, \"latitude\", \"longitude\"), (\"rating\", \"greater than\", 3)]\n",
    "    \"literals\": [(\"latitude\", \"longitude\", \"distance number\"), (\"rating number\")],\n",
=======
    "    \"keywords\": [\"French\", \"cozy\"],\n",
    "    \"literals\": {\"distance\" : 100, \"rating\" : 1},\n",
>>>>>>> Stashed changes
    "    \"k\": 5\n",
    "}"
   ]
  },
  {
   "cell_type": "markdown",
   "metadata": {},
   "source": [
    "Program flow\n",
    "\n",
    "1. Query the database for a list of locations that match the type of location\n",
    "2. Narrow down the list to make sure they match the literals\n",
    "3. Match keywords to the location\n",
    "4. Apply the friend rating filter\n",
    "5. Return K results"
   ]
  },
  {
   "cell_type": "markdown",
   "metadata": {},
   "source": [
    "# Literal Processing"
   ]
  },
  {
   "cell_type": "markdown",
   "metadata": {},
   "source": [
    "When considering the literal processing, this creates an new set that narrows down the amount of businesses that are going to be chosen by its 'literal' or global attribute (distance by radius & global rating number)"
   ]
  },
  {
   "cell_type": "code",
   "execution_count": 103,
   "metadata": {},
   "outputs": [
    {
     "name": "stdout",
     "output_type": "stream",
     "text": [
      "<class 'pandas.core.frame.DataFrame'>\n",
      "RangeIndex: 1081 entries, 0 to 1080\n",
      "Data columns (total 8 columns):\n",
      " #   Column        Non-Null Count  Dtype  \n",
      "---  ------        --------------  -----  \n",
      " 0   business_id   1081 non-null   object \n",
      " 1   name          1081 non-null   object \n",
      " 2   latitude      1081 non-null   float64\n",
      " 3   longitude     1081 non-null   float64\n",
      " 4   stars         1081 non-null   float64\n",
      " 5   review_count  1081 non-null   int64  \n",
      " 6   categories    1081 non-null   object \n",
      " 7   type          1081 non-null   object \n",
      "dtypes: float64(3), int64(1), object(4)\n",
      "memory usage: 67.7+ KB\n"
     ]
    }
   ],
   "source": [
    "# Loading in the cleaned JSON business file\n",
    "\n",
    "with open(f\"data/01_cleaned/sample/businesses.json\") as f:\n",
    "    businesses = pd.DataFrame([json.loads(line) for line in f])\n",
    "businesses.info()\n"
   ]
  },
  {
   "cell_type": "code",
   "execution_count": 107,
   "metadata": {},
   "outputs": [],
   "source": [
    "# From the web, not in use\n",
    "\n",
    "location_literal = {}\n",
    "\n",
    "# calculating the difference between two different points of lat & long\n",
    "# units = miles\n",
    "def dist(lat1, long1, lat2, long2):\n",
    "    earthRadius = 6371.0\n",
    "\n",
    "    # converting the latitude and longitude from degrees to radians\n",
    "    # lat1, long1, lat2, long2 = map(radians, [lat1, long1, lat2, long2])\n",
    "    lat1 = radians(lat1)\n",
    "    long1 = radians(long1)\n",
    "    lat2 = radians(lat2)\n",
    "    long2 = radians(long2)\n",
    "\n",
    "    # finding the distance between respective latitudes and longitudes\n",
    "    latDist = lat2 - lat1\n",
    "    longDist = long2 - long1\n",
    "\n",
    "    # use of the haversine formula\n",
    "    a = sin(latDist / 2)**2 + cos(lat1) * cos(lat2) * sin(longDist / 2)**2\n",
    "    c = 2 * atan2(sqrt(a), sqrt(1 - a))\n",
    "\n",
    "    # Calculate the distance\n",
    "    distance = earthRadius * c\n",
    "\n",
    "    return distance\n",
    "\n",
    "# returns all of the businesses that are less than or equal to the radius of the given latitude and longitude\n",
    "# essentially applies distance function to business\n",
    "def returnLocations(business, businessLat, businessLong, radius):\n",
    "    for business in businesses:\n",
    "        if business[\"review_count\"] > 0:\n",
    "            distance = distance(query[\"literals\"], query[\"literals\"], business[\"latitude\"], business[\"longitude\"])\n",
    "            if distance <= radius:\n",
    "                location_literal.append(business)\n",
    "\n",
    "    return location_literal"
   ]
  },
  {
   "cell_type": "code",
   "execution_count": 119,
   "metadata": {},
   "outputs": [
    {
     "ename": "SyntaxError",
     "evalue": "invalid syntax. Maybe you meant '==' or ':=' instead of '='? (4214617846.py, line 3)",
     "output_type": "error",
     "traceback": [
      "\u001b[0;36m  Cell \u001b[0;32mIn[119], line 3\u001b[0;36m\u001b[0m\n\u001b[0;31m    business[\"location\"] = business.apply((lambda row: dist(query[\"location\"][0], query[\"location\"][1], row[\"latitude\"], row[\"longitude\"]), axis = 1) == query[\"literals\"][\"distance\"])\u001b[0m\n\u001b[0m                                                                                                                                            ^\u001b[0m\n\u001b[0;31mSyntaxError\u001b[0m\u001b[0;31m:\u001b[0m invalid syntax. Maybe you meant '==' or ':=' instead of '='?\n"
     ]
    }
   ],
   "source": [
    "businesses[\"distance\"] = businesses.apply(lambda row: dist(query[\"location\"][0], query[\"location\"][1], row[\"latitude\"], row[\"longitude\"]), axis = 1)\n",
    "businesses.head(20)\n",
    "# business[\"location\"] = business.apply((lambda row: dist(query[\"location\"][0], query[\"location\"][1], row[\"latitude\"], row[\"longitude\"]), axis = 1) == query[\"literals\"][\"distance\"])"
   ]
  },
  {
   "cell_type": "markdown",
   "metadata": {},
   "source": [
    "# YOU CAN RUN THIS ONE LOL"
   ]
  },
  {
   "cell_type": "code",
   "execution_count": 53,
   "metadata": {},
   "outputs": [],
   "source": [
    "# Darin's code that still has bugs\n",
    "\n",
    "location_literal = {}\n",
    "rating_literal = {}\n",
    "\n",
    "# The query distance is in miles\n",
    "def distance(userLat, userLong, queryDist):\n",
    "   earthRadius = 6371.0\n",
    "\n",
    "   if queryDist == 0:\n",
    "      print(\"Your distance cannot be zero\")\n",
    "   else:\n",
    "      for business in businesses:\n",
    "         businessLat = business[\"latitude\"]\n",
    "         businessLong = business[\"longitude\"]\n",
    "         userLat, userLong, businessLat, businessLong = map(radians, userLat, userLong, business[\"latitude\"], business[\"longitude\"])\n",
    "         latDist = businessLat - userLat\n",
    "         longDist = businessLong - userLong\n",
    "         maxDist = earthRadius * c\n",
    "         if maxDist >= queryDist & maxDist != 0:\n",
    "            a = sin(latDist / 2)**2 + cos(userLat) * cos(business[\"latitude\"]) * sin(longDist / 2)**2\n",
    "            c = 2 * atan2(sqrt(a), sqrt(1 - a))\n",
    "            location_literal.append(business)\n",
    "         else:\n",
    "            print(\"There are no \" + query[\"types\"] + \" in your selected radius. Please increase your radius or just leave Ohio\")\n",
    "\n",
    "def returnRated(lowestRating):\n",
    "   for business in location_literal:\n",
    "      if business[\"review_count\"] > 0:\n",
    "         if business[\"stars\"] >= lowestRating:\n",
    "            rating_literal.append(business)\n",
    "   return rating_literal"
   ]
  },
  {
   "cell_type": "code",
   "execution_count": 63,
   "metadata": {},
   "outputs": [
    {
     "name": "stdout",
     "output_type": "stream",
     "text": [
      "There are no Restaurant in your selected radius. Please increase your radius or just leave Ohio\n",
      "There are no Cafe in your selected radius. Please increase your radius or just leave Ohio\n",
      "[]\n",
      "0\n"
     ]
    }
   ],
   "source": [
    "# Works thanks to Chat\n",
    "\n",
    "location_literal = []\n",
    "rating_literal = []\n",
    "\n",
    "# The query distance is in km\n",
    "def distance(userLat, userLong, queryDist):\n",
    "    earthRadius = 6371\n",
    "\n",
    "    if queryDist == 0:\n",
    "        print(\"Your distance cannot be zero\")\n",
    "    else:\n",
    "        for business in businesses:\n",
    "            businessLat = business[\"latitude\"]\n",
    "            businessLong = business[\"longitude\"]\n",
    "            userLat, userLong, businessLat, businessLong = map(radians, [userLat, userLong, businessLat, businessLong])\n",
    "\n",
    "            latDist = businessLat - userLat\n",
    "            longDist = businessLong - userLong\n",
    "\n",
    "            a = sin(latDist / 2)**2 + cos(userLat) * cos(businessLat) * sin(longDist / 2)**2\n",
    "            c = 2 * atan2(sqrt(a), sqrt(1 - a))\n",
    "            maxDist = earthRadius * c\n",
    "\n",
    "            if maxDist <= queryDist:\n",
    "                location_literal.append(business)\n",
    "            else:\n",
    "                print(\"There are no \" + business[\"types\"] + \" in your selected radius. Please increase your radius or just leave Ohio\")\n",
    "\n",
    "def returnRated(lowestRating):\n",
    "    for business in location_literal:\n",
    "        if business[\"review_count\"] > 0:\n",
    "            if business[\"stars\"] >= lowestRating:\n",
    "                rating_literal.append(business)\n",
    "    return rating_literal\n",
    "\n",
    "\n",
    "user_latitude = 41.5074  # Replace with the actual latitude of the user\n",
    "user_longitude = 81.6096  # Replace with the actual longitude of the user\n",
    "query_distance = 1000.0  # Replace with the desired query distance\n",
    "\n",
    "distance(user_latitude, user_longitude, query_distance)\n",
    "print(location_literal)\n",
    "print(len(location_literal))\n"
   ]
  },
  {
   "cell_type": "markdown",
   "metadata": {},
   "source": [
    "Code somewhat works, but not exactly so making a new cell using the pandas import for data frame"
   ]
  },
  {
   "cell_type": "code",
   "execution_count": null,
   "metadata": {},
   "outputs": [],
   "source": [
    "# Copied version that is used to implement the pandas package\n",
    "\n",
    "location_literal = []\n",
    "rating_literal = []\n",
    "\n",
    "# The query distance is in km\n",
    "def distance(userLat, userLong, queryDist):\n",
    "    earthRadius = 6371\n",
    "\n",
    "    if queryDist == 0:\n",
    "        print(\"Your distance cannot be zero\")\n",
    "    else:\n",
    "        for business in businesses:\n",
    "            businessLat = business[\"latitude\"]\n",
    "            businessLong = business[\"longitude\"]\n",
    "            userLat, userLong, businessLat, businessLong = map(radians, [userLat, userLong, businessLat, businessLong])\n",
    "\n",
    "            latDist = businessLat - userLat\n",
    "            longDist = businessLong - userLong\n",
    "\n",
    "            a = sin(latDist / 2)**2 + cos(userLat) * cos(businessLat) * sin(longDist / 2)**2\n",
    "            c = 2 * atan2(sqrt(a), sqrt(1 - a))\n",
    "            maxDist = earthRadius * c\n",
    "\n",
    "            if maxDist <= queryDist:\n",
    "                location_literal.append(business)\n",
    "            else:\n",
    "                print(\"There are no \" + business[\"types\"] + \" in your selected radius. Please increase your radius or just leave Ohio\")\n",
    "\n",
    "def returnRated(lowestRating):\n",
    "    for business in location_literal:\n",
    "        if business[\"review_count\"] > 0:\n",
    "            if business[\"stars\"] >= lowestRating:\n",
    "                rating_literal.append(business)\n",
    "    return rating_literal\n",
    "\n",
    "\n",
    "user_latitude = 41.5074  # Replace with the actual latitude of the user\n",
    "user_longitude = 81.6096  # Replace with the actual longitude of the user\n",
    "query_distance = 1000.0  # Replace with the desired query distance\n",
    "\n",
    "distance(user_latitude, user_longitude, query_distance)\n",
    "print(location_literal)\n",
    "print(len(location_literal))\n"
   ]
  },
  {
   "cell_type": "markdown",
   "metadata": {},
   "source": [
    "# Keyword Extraction"
   ]
  },
  {
   "cell_type": "code",
   "execution_count": null,
   "metadata": {},
   "outputs": [],
   "source": [
    "import pandas as pd"
   ]
  },
  {
   "cell_type": "code",
   "execution_count": null,
   "metadata": {},
   "outputs": [],
   "source": [
    "# read businesses_keywords.csv file\n",
    "with open(\"data/02_postprocessing/businesses_keywords.csv\") as f:\n",
    "    business_keywords_df = pd.read_csv(f, header=0)\n",
    "\n",
    "# read businesses.csv file\n",
    "with open(\"data/02_postprocessing/businesses.csv\") as f:\n",
    "    business_df = pd.read_csv(f, header=0)\n",
    "\n",
    "business_keywords_df\n"
   ]
  },
  {
   "cell_type": "code",
   "execution_count": null,
   "metadata": {},
   "outputs": [],
   "source": [
    "# Filter businesses based on keywords and count the number of keywords matched\n",
    "def filter_businesses(keywords):\n",
    "    # Filter businesses based on keywords\n",
    "    businesses_filtered = business_keywords_df[business_keywords_df[\"keyword\"].isin(keywords)]\n",
    "\n",
    "    # Count the number of keywords matched\n",
    "    businesses_filtered_count = businesses_filtered.groupby(\"business_id\").count().reset_index()\n",
    "\n",
    "    # Rename the column\n",
    "    businesses_filtered_count = businesses_filtered_count.rename(columns={\"keyword\": \"keywords_matched\"})\n",
    "\n",
    "    # Normalize the count of keywords matched\n",
    "    min_count = businesses_filtered_count[\"keywords_matched\"].min()\n",
    "    max_count = businesses_filtered_count[\"keywords_matched\"].max()\n",
    "    businesses_filtered_count[\"norm_keywords_matched\"] = (((businesses_filtered_count[\"keywords_matched\"] - min_count) / (max_count - min_count))) \n",
    "\n",
    "    # Sort the dataframe based on the normalized count of keywords matched\n",
    "    businesses_filtered_count = businesses_filtered_count.sort_values(by=\"norm_keywords_matched\", ascending=False)\n",
    "\n",
    "    return businesses_filtered_count\n",
    "\n",
    "# Example usage\n",
    "result = filter_businesses(query[\"keywords\"])\n"
   ]
  },
  {
   "cell_type": "code",
   "execution_count": null,
   "metadata": {},
   "outputs": [],
   "source": []
  }
 ],
 "metadata": {
  "kernelspec": {
   "display_name": ".venv",
   "language": "python",
   "name": "python3"
  }
 },
 "nbformat": 4,
 "nbformat_minor": 2
}
