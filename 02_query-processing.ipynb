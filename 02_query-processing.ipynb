{
 "cells": [
  {
   "cell_type": "markdown",
   "metadata": {},
   "source": [
    "# Query Notebook"
   ]
  },
  {
   "cell_type": "code",
   "execution_count": null,
   "metadata": {},
   "outputs": [],
   "source": [
    "from math import radians, sin, cos, sqrt, atan2\n",
    "\n",
    "import pandas as pd"
   ]
  },
  {
   "cell_type": "code",
   "execution_count": null,
   "metadata": {},
   "outputs": [],
   "source": [
    "SAMPLE = False"
   ]
  },
  {
   "cell_type": "code",
   "execution_count": null,
   "metadata": {},
   "outputs": [],
   "source": [
    "# Load business data\n",
    "with open(f\"data/02_postprocessing/{'sample/' if SAMPLE else ''}businesses.csv\") as f:\n",
    "    businesses = pd.read_csv(f, header=0)\n",
    "# Load user data\n",
    "with open(f\"data/02_postprocessing/{'sample/' if SAMPLE else ''}users.csv\") as f:\n",
    "    users = pd.read_csv(f, header=0)\n",
    "# Load friends data\n",
    "with open(f\"data/02_postprocessing/{'sample/' if SAMPLE else ''}friends.csv\") as f:\n",
    "    friends = pd.read_csv(f, header=0)\n",
    "# Load ratings data\n",
    "with open(f\"data/02_postprocessing/{'sample/' if SAMPLE else ''}ratings.csv\") as f:\n",
    "    ratings = pd.read_csv(f, header=0)"
   ]
  },
  {
   "cell_type": "code",
   "execution_count": null,
   "metadata": {},
   "outputs": [],
   "source": [
    "# The user query. Can be changed and rerun from this cell for a new query\n",
    "# Change the userID to change the center of the friend network\n",
    "# Change the location to get new results\n",
    "# The literals set minimum rating and maximum distance\n",
    "query = {\n",
    "    \"user\": \"4ZaqBJqt7laPPs8xfWvr6A\",\n",
    "    \"location\": (41.5074, 81.6096),\n",
    "    \"type\": \"restaurants\",\n",
    "    \"keywords\": [\"abby\", \"doctors\", \"target\", \"shopping\", \"fashion\", \"nails\", \"bars\", \"food\"],\n",
    "    \"literals\": {\"distance\" : 100, \"rating\" : 1},\n",
    "    \"k\": 5\n",
    "}"
   ]
  },
  {
   "cell_type": "markdown",
   "metadata": {},
   "source": [
    "Program flow\n",
    "\n",
    "1. Query the database for a list of locations that match the type of location\n",
    "2. Narrow down the list to make sure they match the literals\n",
    "3. Match keywords to the location\n",
    "4. Apply the friend rating filter\n",
    "5. Return K results"
   ]
  },
  {
   "cell_type": "markdown",
   "metadata": {},
   "source": [
    "# Literal Processing"
   ]
  },
  {
   "cell_type": "markdown",
   "metadata": {},
   "source": [
    "When considering the literal processing, this creates an new set that narrows down the amount of businesses that are going to be chosen by its 'literal' or global attribute (distance by radius & global rating number)"
   ]
  },
  {
   "cell_type": "code",
   "execution_count": null,
   "metadata": {},
   "outputs": [],
   "source": [
    "# calculating the difference between two different points of lat & long\n",
    "# units = km\n",
    "def dist(lat1, long1, lat2, long2):\n",
    "    earthRadius = 6371.0\n",
    "\n",
    "    # converting the latitude and longitude from degrees to radians\n",
    "    lat1 = radians(lat1)\n",
    "    long1 = radians(long1)\n",
    "    lat2 = radians(lat2)\n",
    "    long2 = radians(long2)\n",
    "\n",
    "    # finding the distance between respective latitudes and longitudes\n",
    "    latDist = lat2 - lat1\n",
    "    longDist = long2 - long1\n",
    "\n",
    "    # use of the haversine formula\n",
    "    a = sin(latDist / 2)**2 + cos(lat1) * cos(lat2) * sin(longDist / 2)**2\n",
    "    c = 2 * atan2(sqrt(a), sqrt(1 - a))\n",
    "\n",
    "    # Calculate the distance\n",
    "    distance = earthRadius * c\n",
    "\n",
    "    return distance"
   ]
  },
  {
   "cell_type": "code",
   "execution_count": null,
   "metadata": {},
   "outputs": [],
   "source": [
    "# Get distances\n",
    "businesses[\"distance\"] = businesses.apply(lambda row: dist(query[\"location\"][0], query[\"location\"][1], row[\"latitude\"], row[\"longitude\"]), axis = 1)\n",
    "businesses[\"distance\"] = businesses[\"distance\"] / 100 # convert from meters to km\n",
    "businesses.head()"
   ]
  },
  {
   "cell_type": "code",
   "execution_count": null,
   "metadata": {},
   "outputs": [],
   "source": [
    "# Check rating\n",
    "businesses[\"rating_check\"] = businesses[\"stars\"] >= query[\"literals\"][\"rating\"]\n",
    "businesses.head()"
   ]
  },
  {
   "cell_type": "code",
   "execution_count": null,
   "metadata": {},
   "outputs": [],
   "source": [
    "# Combine literals\n",
    "businesses[\"literals\"] = businesses[\"rating_check\"] & (businesses[\"distance\"] <= query[\"literals\"][\"distance\"])\n",
    "businesses[list(set(businesses.columns) - {\"distance\", \"rating_check\"})].loc[businesses[\"literals\"]].head()"
   ]
  },
  {
   "cell_type": "markdown",
   "metadata": {},
   "source": [
    "# Type Matching"
   ]
  },
  {
   "cell_type": "code",
   "execution_count": null,
   "metadata": {},
   "outputs": [],
   "source": [
    "# Make type lower case\n",
    "businesses[\"type\"] = businesses[\"type\"].str.lower()\n",
    "query[\"type\"] = query[\"type\"].lower()"
   ]
  },
  {
   "cell_type": "code",
   "execution_count": null,
   "metadata": {},
   "outputs": [],
   "source": [
    "businesses[\"type_check\"] = businesses[\"type\"] == query[\"type\"]\n",
    "businesses.loc[businesses[\"type_check\"]].head()"
   ]
  },
  {
   "cell_type": "markdown",
   "metadata": {},
   "source": [
    "# Weighted Rating Average"
   ]
  },
  {
   "cell_type": "code",
   "execution_count": null,
   "metadata": {},
   "outputs": [],
   "source": [
    "first_degree_multiplier = 13\n",
    "second_degree_multiplier = 8\n",
    "third_degree_multiplier = 5"
   ]
  },
  {
   "cell_type": "code",
   "execution_count": null,
   "metadata": {},
   "outputs": [],
   "source": [
    "# Add a multiplier column to the ratings table\n",
    "ratings[\"multiplier\"] = 1"
   ]
  },
  {
   "cell_type": "code",
   "execution_count": null,
   "metadata": {},
   "outputs": [],
   "source": [
    "# Find the users that are first degree connections\n",
    "first_degree = friends.loc[friends[\"user_id\"] == query[\"user\"]][\"friend_id\"]\n",
    "ratings.loc[ratings[\"user_id\"].isin(first_degree), \"multiplier\"] = first_degree_multiplier"
   ]
  },
  {
   "cell_type": "code",
   "execution_count": null,
   "metadata": {},
   "outputs": [],
   "source": [
    "# Find second degree connections\n",
    "second_degree = friends.loc[friends[\"user_id\"].isin(first_degree)][\"friend_id\"]\n",
    "# Set ratings to second degree multiplier if it is set to 1\n",
    "ratings.loc[ratings[\"user_id\"].isin(second_degree) & (ratings[\"multiplier\"] == 1), \"multiplier\"] = second_degree_multiplier"
   ]
  },
  {
   "cell_type": "code",
   "execution_count": null,
   "metadata": {},
   "outputs": [],
   "source": [
    "# Find third degree connections\n",
    "third_degree = friends.loc[friends[\"user_id\"].isin(second_degree)][\"friend_id\"]\n",
    "# Set ratings to third degree multiplier if it is set to 1\n",
    "ratings.loc[ratings[\"user_id\"].isin(third_degree) & (ratings[\"multiplier\"] == 1), \"multiplier\"] = third_degree_multiplier"
   ]
  },
  {
   "cell_type": "code",
   "execution_count": null,
   "metadata": {},
   "outputs": [],
   "source": [
    "ratings[\"multiplied_ratings\"] = ratings[\"norm_std_rating\"] * ratings[\"multiplier\"]"
   ]
  },
  {
   "cell_type": "code",
   "execution_count": null,
   "metadata": {},
   "outputs": [],
   "source": [
    "# Give each business a score based on the ratings and their multipliers\n",
    "business_ratings = businesses[[\"business_id\"]].merge(ratings[[\"business_id\", \"multiplied_ratings\", \"multiplier\"]], on=\"business_id\", how=\"left\")\n",
    "business_ratings.head()"
   ]
  },
  {
   "cell_type": "code",
   "execution_count": null,
   "metadata": {},
   "outputs": [],
   "source": [
    "business_ratings_aggregated = business_ratings.groupby(\"business_id\").sum()\n",
    "business_ratings_aggregated[\"score\"] = (\n",
    "    business_ratings_aggregated[\"multiplied_ratings\"]\n",
    "    / business_ratings_aggregated[\"multiplier\"]\n",
    ")\n",
    "business_ratings_aggregated.reset_index(inplace=True)\n",
    "\n",
    "# Normalize the scores\n",
    "min_score = business_ratings_aggregated[\"score\"].min()\n",
    "max_score = business_ratings_aggregated[\"score\"].max()\n",
    "business_ratings_aggregated[\"norm_score\"] = (\n",
    "    business_ratings_aggregated[\"score\"] - min_score\n",
    ") / (max_score - min_score)\n",
    "\n",
    "business_ratings_aggregated.head()"
   ]
  },
  {
   "cell_type": "code",
   "execution_count": null,
   "metadata": {},
   "outputs": [],
   "source": [
    "# Merge with the original business data\n",
    "businesses = businesses.merge(business_ratings_aggregated[[\"business_id\", \"norm_score\"]], on=\"business_id\", how=\"left\")\n",
    "businesses.head()"
   ]
  },
  {
   "cell_type": "markdown",
   "metadata": {},
   "source": [
    "# Keyword Matching"
   ]
  },
  {
   "cell_type": "code",
   "execution_count": null,
   "metadata": {},
   "outputs": [],
   "source": [
    "# read businesses_keywords.csv file\n",
    "with open(\"data/02_postprocessing/businesses_keywords.csv\") as f:\n",
    "    business_keywords_df = pd.read_csv(f, header=0)"
   ]
  },
  {
   "cell_type": "code",
   "execution_count": null,
   "metadata": {},
   "outputs": [],
   "source": [
    "keywords = query[\"keywords\"]\n",
    "# Filter businesses based on keywords\n",
    "businesses_filtered = business_keywords_df[business_keywords_df[\"keyword\"].isin(keywords)]\n",
    "# Count the number of keywords matched\n",
    "businesses_filtered_count = businesses_filtered.groupby(\"business_id\").count().reset_index()\n",
    "# Rename the column\n",
    "businesses_filtered_count = businesses_filtered_count.rename(columns={\"keyword\": \"keywords_matched\"})\n",
    "# Normalize the count of keywords matched\n",
    "min_count = businesses_filtered_count[\"keywords_matched\"].min()\n",
    "max_count = businesses_filtered_count[\"keywords_matched\"].max()\n",
    "businesses_filtered_count[\"norm_keywords_matched\"] = (((businesses_filtered_count[\"keywords_matched\"] - min_count) / (max_count - min_count))) \n",
    "# Sort the dataframe based on the normalized count of keywords matched\n",
    "businesses_filtered_count = businesses_filtered_count.sort_values(by=\"norm_keywords_matched\", ascending=False)"
   ]
  },
  {
   "cell_type": "code",
   "execution_count": null,
   "metadata": {},
   "outputs": [],
   "source": [
    "businesses = businesses.merge(businesses_filtered_count, on=\"business_id\", how=\"left\")\n",
    "# fill na with 0\n",
    "businesses[\"norm_keywords_matched\"] = businesses[\"norm_keywords_matched\"].fillna(0)\n",
    "businesses.head()"
   ]
  },
  {
   "cell_type": "markdown",
   "metadata": {},
   "source": [
    "# Final Aggregation"
   ]
  },
  {
   "cell_type": "code",
   "execution_count": null,
   "metadata": {},
   "outputs": [],
   "source": [
    "score_weight = 1\n",
    "keywords_weight = 1\n",
    "businesses[\"final_score\"] = (businesses[\"norm_score\"] * score_weight) + (\n",
    "    businesses[\"norm_keywords_matched\"] * keywords_weight\n",
    ")"
   ]
  },
  {
   "cell_type": "code",
   "execution_count": null,
   "metadata": {},
   "outputs": [],
   "source": [
    "# Print out the top k businesses\n",
    "businesses.sort_values(by=\"final_score\", ascending=False).head(query[\"k\"])[[\"name\", \"stars\", \"latitude\", \"longitude\", \"distance\"]]"
   ]
  },
  {
   "cell_type": "markdown",
   "metadata": {},
   "source": [
    "And these are our top K results"
   ]
  }
 ],
 "metadata": {
  "kernelspec": {
   "display_name": "Python 3 (ipykernel)",
   "language": "python",
   "name": "python3"
  }
 },
 "nbformat": 4,
 "nbformat_minor": 4
}
