{
 "cells": [
  {
   "cell_type": "markdown",
   "metadata": {},
   "source": [
    "# Query Notebook"
   ]
  },
  {
   "cell_type": "code",
   "execution_count": null,
   "metadata": {},
   "outputs": [],
   "source": [
    "import json\n",
    "from math import radians, sin, cos, sqrt, atan2\n",
    "\n",
    "import pandas as pd"
   ]
  },
  {
   "cell_type": "code",
   "execution_count": null,
   "metadata": {},
   "outputs": [],
   "source": [
    "SAMPLE = False"
   ]
  },
  {
   "cell_type": "code",
   "execution_count": null,
   "metadata": {},
   "outputs": [],
   "source": [
    "# This is how our queries will be formatted. They will later be created with\n",
    "# user input\n",
    "query = {\n",
    "    \"user\": \"4ZaqBJqt7laPPs8xfWvr6A\",\n",
    "    \"location\": (41.5074, 81.6096),\n",
    "    \"types\": [\"restaurants\"], # TODO I think this should be just one value out a list of options to make our work easier -Joshua\n",
    "    \"keywords\": [\"abby\", \"doctors\", \"target\", \"shopping\", \"fashion\", \"nails\", \"bars\", \"food\"],\n",
    "    \"literals\": {\"distance\" : 100, \"rating\" : 1},\n",
    "    \"k\": 5\n",
    "}"
   ]
  },
  {
   "cell_type": "markdown",
   "metadata": {},
   "source": [
    "Program flow\n",
    "\n",
    "1. Query the database for a list of locations that match the type of location\n",
    "2. Narrow down the list to make sure they match the literals\n",
    "3. Match keywords to the location\n",
    "4. Apply the friend rating filter\n",
    "5. Return K results"
   ]
  },
  {
   "cell_type": "markdown",
   "metadata": {},
   "source": [
    "# Literal Processing"
   ]
  },
  {
   "cell_type": "markdown",
   "metadata": {},
   "source": [
    "When considering the literal processing, this creates an new set that narrows down the amount of businesses that are going to be chosen by its 'literal' or global attribute (distance by radius & global rating number)"
   ]
  },
  {
   "cell_type": "code",
   "execution_count": null,
   "metadata": {},
   "outputs": [],
   "source": [
    "# Loading in the cleaned JSON business file\n",
    "\n",
    "with open(f\"data/02_postprocessing/{'sample/' if SAMPLE else ''}businesses.csv\") as f:\n",
    "    businesses = pd.read_csv(f, header=0)\n",
    "businesses.info()\n"
   ]
  },
  {
   "cell_type": "code",
   "execution_count": null,
   "metadata": {},
   "outputs": [],
   "source": [
    "# calculating the difference between two different points of lat & long\n",
    "# units = km\n",
    "def dist(lat1, long1, lat2, long2):\n",
    "    earthRadius = 6371.0\n",
    "\n",
    "    # converting the latitude and longitude from degrees to radians\n",
    "    # lat1, long1, lat2, long2 = map(radians, [lat1, long1, lat2, long2])\n",
    "    lat1 = radians(lat1)\n",
    "    long1 = radians(long1)\n",
    "    lat2 = radians(lat2)\n",
    "    long2 = radians(long2)\n",
    "\n",
    "    # finding the distance between respective latitudes and longitudes\n",
    "    latDist = lat2 - lat1\n",
    "    longDist = long2 - long1\n",
    "\n",
    "    # use of the haversine formula\n",
    "    a = sin(latDist / 2)**2 + cos(lat1) * cos(lat2) * sin(longDist / 2)**2\n",
    "    c = 2 * atan2(sqrt(a), sqrt(1 - a))\n",
    "\n",
    "    # Calculate the distance\n",
    "    distance = earthRadius * c\n",
    "\n",
    "    return distance"
   ]
  },
  {
   "cell_type": "code",
   "execution_count": null,
   "metadata": {},
   "outputs": [],
   "source": [
    "# Get distances\n",
    "businesses[\"distance\"] = businesses.apply(lambda row: dist(query[\"location\"][0], query[\"location\"][1], row[\"latitude\"], row[\"longitude\"]), axis = 1)\n",
    "businesses[\"distance\"] = businesses[\"distance\"] / 100 # convert from meters to km\n",
    "businesses.head()"
   ]
  },
  {
   "cell_type": "code",
   "execution_count": null,
   "metadata": {},
   "outputs": [],
   "source": [
    "# Check rating\n",
    "businesses[\"rating_check\"] = businesses[\"stars\"] >= query[\"literals\"][\"rating\"]\n",
    "businesses.head()"
   ]
  },
  {
   "cell_type": "code",
   "execution_count": null,
   "metadata": {},
   "outputs": [],
   "source": [
    "# Combine literals\n",
    "businesses[\"literals\"] = businesses[\"rating_check\"] & (businesses[\"distance\"] <= query[\"literals\"][\"distance\"])\n",
    "businesses[list(set(businesses.columns) - {\"distance\", \"rating_check\"})].loc[businesses[\"literals\"]].head()"
   ]
  },
  {
   "cell_type": "markdown",
   "metadata": {},
   "source": [
    "# Keyword Extraction"
   ]
  },
  {
   "cell_type": "code",
   "execution_count": null,
   "metadata": {},
   "outputs": [],
   "source": [
    "# read businesses_keywords.csv file\n",
    "with open(\"data/02_postprocessing/businesses_keywords.csv\") as f:\n",
    "    business_keywords_df = pd.read_csv(f, header=0)\n",
    "\n",
    "# read businesses.csv file\n",
    "with open(\"data/02_postprocessing/businesses.csv\") as f:\n",
    "    business_df = pd.read_csv(f, header=0)\n",
    "\n",
    "business_keywords_df\n"
   ]
  },
  {
   "cell_type": "code",
   "execution_count": null,
   "metadata": {},
   "outputs": [],
   "source": [
    "# Filter businesses based on keywords and count the number of keywords matched\n",
    "def filter_businesses(keywords):\n",
    "    # Filter businesses based on keywords\n",
    "    businesses_filtered = business_keywords_df[business_keywords_df[\"keyword\"].isin(keywords)]\n",
    "\n",
    "    # Count the number of keywords matched\n",
    "    businesses_filtered_count = businesses_filtered.groupby(\"business_id\").count().reset_index()\n",
    "\n",
    "    # Rename the column\n",
    "    businesses_filtered_count = businesses_filtered_count.rename(columns={\"keyword\": \"keywords_matched\"})\n",
    "\n",
    "    # Normalize the count of keywords matched\n",
    "    min_count = businesses_filtered_count[\"keywords_matched\"].min()\n",
    "    max_count = businesses_filtered_count[\"keywords_matched\"].max()\n",
    "    businesses_filtered_count[\"norm_keywords_matched\"] = (((businesses_filtered_count[\"keywords_matched\"] - min_count) / (max_count - min_count))) \n",
    "\n",
    "    # Sort the dataframe based on the normalized count of keywords matched\n",
    "    businesses_filtered_count = businesses_filtered_count.sort_values(by=\"norm_keywords_matched\", ascending=False)\n",
    "\n",
    "    return businesses_filtered_count\n",
    "\n",
    "# Example usage\n",
    "result = filter_businesses(query[\"keywords\"])\n"
   ]
  }
 ],
 "metadata": {
  "kernelspec": {
   "display_name": ".venv",
   "language": "python",
   "name": "python3"
  }
 },
 "nbformat": 4,
 "nbformat_minor": 2
}
