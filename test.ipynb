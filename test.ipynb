{
 "cells": [
  {
   "cell_type": "markdown",
   "id": "76681608-a7d8-4c07-9baa-7379d8206718",
   "metadata": {},
   "source": [
    "# Here's a header"
   ]
  },
  {
   "cell_type": "code",
   "execution_count": null,
   "id": "19ea85ff-7811-470e-95df-ab81a7b3a737",
   "metadata": {},
   "outputs": [],
   "source": [
    "2+1"
   ]
  },
  {
   "cell_type": "code",
   "execution_count": null,
   "id": "642ab0f7-0aa3-4d51-9ca4-117002ef5f7d",
   "metadata": {},
   "outputs": [],
   "source": []
  }
 ],
 "metadata": {
  "kernelspec": {
   "display_name": "Python 3 (ipykernel)",
   "language": "python",
   "name": "python3"
  }
 },
 "nbformat": 4,
 "nbformat_minor": 5
}
