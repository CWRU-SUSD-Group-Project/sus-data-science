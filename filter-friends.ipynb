{
 "cells": [
  {
   "cell_type": "code",
   "execution_count": null,
   "metadata": {},
   "outputs": [],
   "source": [
    "# Run this script to create the filtered friends dataset.\n",
    "# Delete the \"yelp_academic_dataset_user_friends.json\" file before running this script (if it exists)\n",
    "import json\n",
    "with (\n",
    "    open(\"data/yelp_academic_dataset_user.json\", \"r\") as input,\n",
    "    open(\"data/yelp_academic_dataset_user_friends.json\", \"a\") as output\n",
    "):\n",
    "    for line in input.readlines():\n",
    "        row = json.loads(line)\n",
    "        if row[\"friends\"] != \"None\":\n",
    "            output.write(line)"
   ]
  }
 ],
 "metadata": {
  "kernelspec": {
   "display_name": ".venv",
   "language": "python",
   "name": "python3"
  }
 },
 "nbformat": 4,
 "nbformat_minor": 2
}
